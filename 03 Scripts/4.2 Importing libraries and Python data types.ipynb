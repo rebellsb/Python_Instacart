{
 "cells": [
  {
   "cell_type": "markdown",
   "id": "e611a8bc",
   "metadata": {},
   "source": [
    "# 01. Importing libraries"
   ]
  },
  {
   "cell_type": "code",
   "execution_count": 1,
   "id": "382d0eaa",
   "metadata": {},
   "outputs": [],
   "source": [
    "# Import libraries\n",
    "import pandas as pd\n",
    "import numpy as np\n",
    "import os"
   ]
  },
  {
   "cell_type": "code",
   "execution_count": null,
   "id": "f04c7df1",
   "metadata": {},
   "outputs": [],
   "source": []
  },
  {
   "cell_type": "code",
   "execution_count": null,
   "id": "339500ec",
   "metadata": {},
   "outputs": [],
   "source": []
  },
  {
   "cell_type": "markdown",
   "id": "f17cf464",
   "metadata": {},
   "source": [
    "# 02. Data types"
   ]
  },
  {
   "cell_type": "code",
   "execution_count": 12,
   "id": "6b918483",
   "metadata": {},
   "outputs": [
    {
     "data": {
      "text/plain": [
       "100"
      ]
     },
     "execution_count": 12,
     "metadata": {},
     "output_type": "execute_result"
    }
   ],
   "source": [
    "10+90"
   ]
  },
  {
   "cell_type": "code",
   "execution_count": 13,
   "id": "2b3393e1",
   "metadata": {},
   "outputs": [],
   "source": [
    "x=50"
   ]
  },
  {
   "cell_type": "code",
   "execution_count": 14,
   "id": "25ec0c70",
   "metadata": {},
   "outputs": [
    {
     "data": {
      "text/plain": [
       "100"
      ]
     },
     "execution_count": 14,
     "metadata": {},
     "output_type": "execute_result"
    }
   ],
   "source": [
    "x*2"
   ]
  },
  {
   "cell_type": "code",
   "execution_count": 15,
   "id": "f012d4be",
   "metadata": {},
   "outputs": [
    {
     "data": {
      "text/plain": [
       "100.0"
      ]
     },
     "execution_count": 15,
     "metadata": {},
     "output_type": "execute_result"
    }
   ],
   "source": [
    "200/2"
   ]
  },
  {
   "cell_type": "code",
   "execution_count": 16,
   "id": "7790dae4",
   "metadata": {},
   "outputs": [],
   "source": [
    "a=5.236"
   ]
  },
  {
   "cell_type": "code",
   "execution_count": 17,
   "id": "67694f0a",
   "metadata": {},
   "outputs": [],
   "source": [
    "b=3.854"
   ]
  },
  {
   "cell_type": "code",
   "execution_count": 18,
   "id": "1b75b859",
   "metadata": {},
   "outputs": [
    {
     "data": {
      "text/plain": [
       "1.3585884795018162"
      ]
     },
     "execution_count": 18,
     "metadata": {},
     "output_type": "execute_result"
    }
   ],
   "source": [
    "a/b"
   ]
  },
  {
   "cell_type": "code",
   "execution_count": 24,
   "id": "a994ac55",
   "metadata": {},
   "outputs": [],
   "source": [
    "q='how '"
   ]
  },
  {
   "cell_type": "code",
   "execution_count": 25,
   "id": "3e1dbbd8",
   "metadata": {},
   "outputs": [],
   "source": [
    "w='are '"
   ]
  },
  {
   "cell_type": "code",
   "execution_count": 22,
   "id": "0e901b0b",
   "metadata": {},
   "outputs": [],
   "source": [
    "e='you?'"
   ]
  },
  {
   "cell_type": "code",
   "execution_count": 26,
   "id": "fd3c3414",
   "metadata": {},
   "outputs": [
    {
     "data": {
      "text/plain": [
       "'how are you?'"
      ]
     },
     "execution_count": 26,
     "metadata": {},
     "output_type": "execute_result"
    }
   ],
   "source": [
    "q+w+e"
   ]
  },
  {
   "cell_type": "code",
   "execution_count": 27,
   "id": "da19ff46",
   "metadata": {},
   "outputs": [],
   "source": [
    "r='thanks, '"
   ]
  },
  {
   "cell_type": "code",
   "execution_count": 28,
   "id": "59320008",
   "metadata": {},
   "outputs": [],
   "source": [
    "t= 'I am '"
   ]
  },
  {
   "cell_type": "code",
   "execution_count": 29,
   "id": "bfd616d8",
   "metadata": {},
   "outputs": [],
   "source": [
    "z= 'fine!'"
   ]
  },
  {
   "cell_type": "code",
   "execution_count": 30,
   "id": "8b03c77b",
   "metadata": {},
   "outputs": [
    {
     "data": {
      "text/plain": [
       "'thanks, I am fine!'"
      ]
     },
     "execution_count": 30,
     "metadata": {},
     "output_type": "execute_result"
    }
   ],
   "source": [
    "r+t+z"
   ]
  }
 ],
 "metadata": {
  "kernelspec": {
   "display_name": "Python 3 (ipykernel)",
   "language": "python",
   "name": "python3"
  },
  "language_info": {
   "codemirror_mode": {
    "name": "ipython",
    "version": 3
   },
   "file_extension": ".py",
   "mimetype": "text/x-python",
   "name": "python",
   "nbconvert_exporter": "python",
   "pygments_lexer": "ipython3",
   "version": "3.10.9"
  }
 },
 "nbformat": 4,
 "nbformat_minor": 5
}
