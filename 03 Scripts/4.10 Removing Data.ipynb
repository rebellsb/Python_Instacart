{
 "cells": [
  {
   "cell_type": "markdown",
   "id": "769f0f9b",
   "metadata": {},
   "source": [
    "# Removing Data"
   ]
  },
  {
   "cell_type": "code",
   "execution_count": 1,
   "id": "a1b07f3f",
   "metadata": {},
   "outputs": [],
   "source": [
    "#import libraries\n",
    "import pandas as pd\n",
    "import numpy as np\n",
    "import os\n",
    "import matplotlib.pyplot as plt\n",
    "import seaborn as sns\n",
    "import scipy"
   ]
  },
  {
   "cell_type": "code",
   "execution_count": 2,
   "id": "db92b408",
   "metadata": {},
   "outputs": [],
   "source": [
    "# Create path\n",
    "path = r'C:\\Users\\RebekkaBrandt\\Documents\\Instacart Basket Analysis'"
   ]
  },
  {
   "cell_type": "code",
   "execution_count": 3,
   "id": "56362bac",
   "metadata": {},
   "outputs": [],
   "source": [
    "# Import orders_products_all\n",
    "ords_prods_all = pd.read_pickle(os.path.join(path, '02 Data', 'Prepared Data', 'orders_products_all.pkl'))"
   ]
  },
  {
   "cell_type": "code",
   "execution_count": 4,
   "id": "8cdd0ce9",
   "metadata": {},
   "outputs": [
    {
     "name": "stdout",
     "output_type": "stream",
     "text": [
      "<class 'pandas.core.frame.DataFrame'>\n",
      "Int64Index: 32404859 entries, 0 to 32404858\n",
      "Data columns (total 35 columns):\n",
      " #   Column                     Dtype   \n",
      "---  ------                     -----   \n",
      " 0   order_id                   int32   \n",
      " 1   user_id                    int32   \n",
      " 2   order_number               int8    \n",
      " 3   orders_day_of_week         int8    \n",
      " 4   order_hour_of_day          int8    \n",
      " 5   days_since_previous_order  float16 \n",
      " 6   product_id                 int32   \n",
      " 7   add_to_cart_order          int32   \n",
      " 8   reordered                  int8    \n",
      " 9   product_name               object  \n",
      " 10  aisle_id                   int8    \n",
      " 11  department_id              int8    \n",
      " 12  prices                     float16 \n",
      " 13  _merge                     category\n",
      " 14  price_range_loc            object  \n",
      " 15  busiest_day                object  \n",
      " 16  busiest_days               object  \n",
      " 17  busiest_peripd_of_day      object  \n",
      " 18  busiest_period_of_day      object  \n",
      " 19  max_order                  int8    \n",
      " 20  loyalty_flag               object  \n",
      " 21  avg_price                  float16 \n",
      " 22  spending_flag              object  \n",
      " 23  order_freq                 float16 \n",
      " 24  frequency                  object  \n",
      " 25  frequency_flag             object  \n",
      " 26  first_name                 object  \n",
      " 27  last_name                  object  \n",
      " 28  gender                     object  \n",
      " 29  state                      object  \n",
      " 30  age                        int8    \n",
      " 31  date_joined                object  \n",
      " 32  number_of_dependants       int8    \n",
      " 33  family_status              object  \n",
      " 34  income                     int32   \n",
      "dtypes: category(1), float16(4), int32(5), int8(9), object(16)\n",
      "memory usage: 5.3+ GB\n"
     ]
    }
   ],
   "source": [
    "ords_prods_all.info()"
   ]
  },
  {
   "cell_type": "markdown",
   "id": "eb3346ad",
   "metadata": {},
   "source": [
    "## Drop First Name & Last Name for PII resons\n"
   ]
  },
  {
   "cell_type": "code",
   "execution_count": 5,
   "id": "54a211b2",
   "metadata": {},
   "outputs": [],
   "source": [
    "ords_prods_all= ords_prods_all.drop(columns = ['first_name', 'last_name'])"
   ]
  },
  {
   "cell_type": "code",
   "execution_count": 6,
   "id": "2f2b2b69",
   "metadata": {},
   "outputs": [
    {
     "name": "stdout",
     "output_type": "stream",
     "text": [
      "<class 'pandas.core.frame.DataFrame'>\n",
      "Int64Index: 32404859 entries, 0 to 32404858\n",
      "Data columns (total 33 columns):\n",
      " #   Column                     Dtype   \n",
      "---  ------                     -----   \n",
      " 0   order_id                   int32   \n",
      " 1   user_id                    int32   \n",
      " 2   order_number               int8    \n",
      " 3   orders_day_of_week         int8    \n",
      " 4   order_hour_of_day          int8    \n",
      " 5   days_since_previous_order  float16 \n",
      " 6   product_id                 int32   \n",
      " 7   add_to_cart_order          int32   \n",
      " 8   reordered                  int8    \n",
      " 9   product_name               object  \n",
      " 10  aisle_id                   int8    \n",
      " 11  department_id              int8    \n",
      " 12  prices                     float16 \n",
      " 13  _merge                     category\n",
      " 14  price_range_loc            object  \n",
      " 15  busiest_day                object  \n",
      " 16  busiest_days               object  \n",
      " 17  busiest_peripd_of_day      object  \n",
      " 18  busiest_period_of_day      object  \n",
      " 19  max_order                  int8    \n",
      " 20  loyalty_flag               object  \n",
      " 21  avg_price                  float16 \n",
      " 22  spending_flag              object  \n",
      " 23  order_freq                 float16 \n",
      " 24  frequency                  object  \n",
      " 25  frequency_flag             object  \n",
      " 26  gender                     object  \n",
      " 27  state                      object  \n",
      " 28  age                        int8    \n",
      " 29  date_joined                object  \n",
      " 30  number_of_dependants       int8    \n",
      " 31  family_status              object  \n",
      " 32  income                     int32   \n",
      "dtypes: category(1), float16(4), int32(5), int8(9), object(14)\n",
      "memory usage: 4.8+ GB\n"
     ]
    }
   ],
   "source": [
    "ords_prods_all.info()"
   ]
  },
  {
   "cell_type": "code",
   "execution_count": 7,
   "id": "6078b4ee",
   "metadata": {},
   "outputs": [],
   "source": [
    "ords_prods_all.to_pickle(os.path.join(path, '02 Data','Prepared Data', 'ords_prods_all_2.pkl'))"
   ]
  },
  {
   "cell_type": "markdown",
   "id": "038183eb",
   "metadata": {},
   "source": [
    "## Removing customer with low order number"
   ]
  },
  {
   "cell_type": "code",
   "execution_count": 8,
   "id": "1c53f46d",
   "metadata": {},
   "outputs": [],
   "source": [
    "ords_prods_all.loc[ords_prods_all['max_order'] < 5, 'activity'] = 'low activity'"
   ]
  },
  {
   "cell_type": "code",
   "execution_count": 10,
   "id": "7b403006",
   "metadata": {},
   "outputs": [],
   "source": [
    "ords_prods_all.loc[ords_prods_all['max_order'] >= 5, 'activity'] = 'high activity'"
   ]
  },
  {
   "cell_type": "code",
   "execution_count": 11,
   "id": "96b96853",
   "metadata": {},
   "outputs": [
    {
     "data": {
      "text/html": [
       "<div>\n",
       "<style scoped>\n",
       "    .dataframe tbody tr th:only-of-type {\n",
       "        vertical-align: middle;\n",
       "    }\n",
       "\n",
       "    .dataframe tbody tr th {\n",
       "        vertical-align: top;\n",
       "    }\n",
       "\n",
       "    .dataframe thead th {\n",
       "        text-align: right;\n",
       "    }\n",
       "</style>\n",
       "<table border=\"1\" class=\"dataframe\">\n",
       "  <thead>\n",
       "    <tr style=\"text-align: right;\">\n",
       "      <th></th>\n",
       "      <th>order_id</th>\n",
       "      <th>user_id</th>\n",
       "      <th>order_number</th>\n",
       "      <th>orders_day_of_week</th>\n",
       "      <th>order_hour_of_day</th>\n",
       "      <th>days_since_previous_order</th>\n",
       "      <th>product_id</th>\n",
       "      <th>add_to_cart_order</th>\n",
       "      <th>reordered</th>\n",
       "      <th>product_name</th>\n",
       "      <th>...</th>\n",
       "      <th>frequency</th>\n",
       "      <th>frequency_flag</th>\n",
       "      <th>gender</th>\n",
       "      <th>state</th>\n",
       "      <th>age</th>\n",
       "      <th>date_joined</th>\n",
       "      <th>number_of_dependants</th>\n",
       "      <th>family_status</th>\n",
       "      <th>income</th>\n",
       "      <th>activity</th>\n",
       "    </tr>\n",
       "  </thead>\n",
       "  <tbody>\n",
       "    <tr>\n",
       "      <th>0</th>\n",
       "      <td>2539329</td>\n",
       "      <td>1</td>\n",
       "      <td>1</td>\n",
       "      <td>2</td>\n",
       "      <td>8</td>\n",
       "      <td>NaN</td>\n",
       "      <td>196</td>\n",
       "      <td>1</td>\n",
       "      <td>0</td>\n",
       "      <td>Soda</td>\n",
       "      <td>...</td>\n",
       "      <td>NaN</td>\n",
       "      <td>Non-frequent customer</td>\n",
       "      <td>Female</td>\n",
       "      <td>Alabama</td>\n",
       "      <td>31</td>\n",
       "      <td>2/17/2019</td>\n",
       "      <td>3</td>\n",
       "      <td>married</td>\n",
       "      <td>40423</td>\n",
       "      <td>high activity</td>\n",
       "    </tr>\n",
       "    <tr>\n",
       "      <th>1</th>\n",
       "      <td>2398795</td>\n",
       "      <td>1</td>\n",
       "      <td>2</td>\n",
       "      <td>3</td>\n",
       "      <td>7</td>\n",
       "      <td>15.0</td>\n",
       "      <td>196</td>\n",
       "      <td>1</td>\n",
       "      <td>1</td>\n",
       "      <td>Soda</td>\n",
       "      <td>...</td>\n",
       "      <td>NaN</td>\n",
       "      <td>Non-frequent customer</td>\n",
       "      <td>Female</td>\n",
       "      <td>Alabama</td>\n",
       "      <td>31</td>\n",
       "      <td>2/17/2019</td>\n",
       "      <td>3</td>\n",
       "      <td>married</td>\n",
       "      <td>40423</td>\n",
       "      <td>high activity</td>\n",
       "    </tr>\n",
       "    <tr>\n",
       "      <th>2</th>\n",
       "      <td>473747</td>\n",
       "      <td>1</td>\n",
       "      <td>3</td>\n",
       "      <td>3</td>\n",
       "      <td>12</td>\n",
       "      <td>21.0</td>\n",
       "      <td>196</td>\n",
       "      <td>1</td>\n",
       "      <td>1</td>\n",
       "      <td>Soda</td>\n",
       "      <td>...</td>\n",
       "      <td>NaN</td>\n",
       "      <td>Non-frequent customer</td>\n",
       "      <td>Female</td>\n",
       "      <td>Alabama</td>\n",
       "      <td>31</td>\n",
       "      <td>2/17/2019</td>\n",
       "      <td>3</td>\n",
       "      <td>married</td>\n",
       "      <td>40423</td>\n",
       "      <td>high activity</td>\n",
       "    </tr>\n",
       "    <tr>\n",
       "      <th>3</th>\n",
       "      <td>2254736</td>\n",
       "      <td>1</td>\n",
       "      <td>4</td>\n",
       "      <td>4</td>\n",
       "      <td>7</td>\n",
       "      <td>29.0</td>\n",
       "      <td>196</td>\n",
       "      <td>1</td>\n",
       "      <td>1</td>\n",
       "      <td>Soda</td>\n",
       "      <td>...</td>\n",
       "      <td>NaN</td>\n",
       "      <td>Non-frequent customer</td>\n",
       "      <td>Female</td>\n",
       "      <td>Alabama</td>\n",
       "      <td>31</td>\n",
       "      <td>2/17/2019</td>\n",
       "      <td>3</td>\n",
       "      <td>married</td>\n",
       "      <td>40423</td>\n",
       "      <td>high activity</td>\n",
       "    </tr>\n",
       "    <tr>\n",
       "      <th>4</th>\n",
       "      <td>431534</td>\n",
       "      <td>1</td>\n",
       "      <td>5</td>\n",
       "      <td>4</td>\n",
       "      <td>15</td>\n",
       "      <td>28.0</td>\n",
       "      <td>196</td>\n",
       "      <td>1</td>\n",
       "      <td>1</td>\n",
       "      <td>Soda</td>\n",
       "      <td>...</td>\n",
       "      <td>NaN</td>\n",
       "      <td>Non-frequent customer</td>\n",
       "      <td>Female</td>\n",
       "      <td>Alabama</td>\n",
       "      <td>31</td>\n",
       "      <td>2/17/2019</td>\n",
       "      <td>3</td>\n",
       "      <td>married</td>\n",
       "      <td>40423</td>\n",
       "      <td>high activity</td>\n",
       "    </tr>\n",
       "  </tbody>\n",
       "</table>\n",
       "<p>5 rows × 34 columns</p>\n",
       "</div>"
      ],
      "text/plain": [
       "   order_id  user_id  order_number  orders_day_of_week  order_hour_of_day  \\\n",
       "0   2539329        1             1                   2                  8   \n",
       "1   2398795        1             2                   3                  7   \n",
       "2    473747        1             3                   3                 12   \n",
       "3   2254736        1             4                   4                  7   \n",
       "4    431534        1             5                   4                 15   \n",
       "\n",
       "   days_since_previous_order  product_id  add_to_cart_order  reordered  \\\n",
       "0                        NaN         196                  1          0   \n",
       "1                       15.0         196                  1          1   \n",
       "2                       21.0         196                  1          1   \n",
       "3                       29.0         196                  1          1   \n",
       "4                       28.0         196                  1          1   \n",
       "\n",
       "  product_name  ...  frequency         frequency_flag  gender    state age  \\\n",
       "0         Soda  ...        NaN  Non-frequent customer  Female  Alabama  31   \n",
       "1         Soda  ...        NaN  Non-frequent customer  Female  Alabama  31   \n",
       "2         Soda  ...        NaN  Non-frequent customer  Female  Alabama  31   \n",
       "3         Soda  ...        NaN  Non-frequent customer  Female  Alabama  31   \n",
       "4         Soda  ...        NaN  Non-frequent customer  Female  Alabama  31   \n",
       "\n",
       "  date_joined number_of_dependants family_status income       activity  \n",
       "0   2/17/2019                    3       married  40423  high activity  \n",
       "1   2/17/2019                    3       married  40423  high activity  \n",
       "2   2/17/2019                    3       married  40423  high activity  \n",
       "3   2/17/2019                    3       married  40423  high activity  \n",
       "4   2/17/2019                    3       married  40423  high activity  \n",
       "\n",
       "[5 rows x 34 columns]"
      ]
     },
     "execution_count": 11,
     "metadata": {},
     "output_type": "execute_result"
    }
   ],
   "source": [
    "ords_prods_all.head()"
   ]
  },
  {
   "cell_type": "code",
   "execution_count": 12,
   "id": "511ec1c4",
   "metadata": {},
   "outputs": [
    {
     "data": {
      "text/plain": [
       "high activity    30964564\n",
       "low activity      1440295\n",
       "Name: activity, dtype: int64"
      ]
     },
     "execution_count": 12,
     "metadata": {},
     "output_type": "execute_result"
    }
   ],
   "source": [
    "ords_prods_all['activity'].value_counts(dropna = False)"
   ]
  },
  {
   "cell_type": "code",
   "execution_count": 13,
   "id": "b1393852",
   "metadata": {},
   "outputs": [],
   "source": [
    "ords_prods_all_high_activity =  ords_prods_all[ords_prods_all['activity']=='high activity']"
   ]
  },
  {
   "cell_type": "code",
   "execution_count": 14,
   "id": "9eaeaab2",
   "metadata": {},
   "outputs": [
    {
     "data": {
      "text/plain": [
       "(30964564, 34)"
      ]
     },
     "execution_count": 14,
     "metadata": {},
     "output_type": "execute_result"
    }
   ],
   "source": [
    "ords_prods_all_high_activity.shape"
   ]
  },
  {
   "cell_type": "code",
   "execution_count": 15,
   "id": "89d16e5c",
   "metadata": {},
   "outputs": [],
   "source": [
    "ords_prods_all_high_activity.to_pickle(os.path.join(path, '02 Data','Prepared Data', 'ords_prods_all_high_activity.pkl'))"
   ]
  },
  {
   "cell_type": "code",
   "execution_count": null,
   "id": "036fa157",
   "metadata": {},
   "outputs": [],
   "source": []
  }
 ],
 "metadata": {
  "kernelspec": {
   "display_name": "Python 3 (ipykernel)",
   "language": "python",
   "name": "python3"
  },
  "language_info": {
   "codemirror_mode": {
    "name": "ipython",
    "version": 3
   },
   "file_extension": ".py",
   "mimetype": "text/x-python",
   "name": "python",
   "nbconvert_exporter": "python",
   "pygments_lexer": "ipython3",
   "version": "3.10.9"
  }
 },
 "nbformat": 4,
 "nbformat_minor": 5
}
